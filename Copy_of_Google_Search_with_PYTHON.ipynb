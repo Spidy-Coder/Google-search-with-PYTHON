{
  "nbformat": 4,
  "nbformat_minor": 0,
  "metadata": {
    "colab": {
      "name": "Copy of Google Search with PYTHON.ipynb",
      "provenance": [],
      "authorship_tag": "ABX9TyO7He1phKxsqsattcB9pD39",
      "include_colab_link": true
    },
    "kernelspec": {
      "name": "python3",
      "display_name": "Python 3"
    }
  },
  "cells": [
    {
      "cell_type": "markdown",
      "metadata": {
        "id": "view-in-github",
        "colab_type": "text"
      },
      "source": [
        "<a href=\"https://colab.research.google.com/github/Spidy-Coder/Google-search-with-PYTHON/blob/master/Copy_of_Google_Search_with_PYTHON.ipynb\" target=\"_parent\"><img src=\"https://colab.research.google.com/assets/colab-badge.svg\" alt=\"Open In Colab\"/></a>"
      ]
    },
    {
      "cell_type": "code",
      "metadata": {
        "id": "r5CCEGIwGj-8",
        "colab_type": "code",
        "colab": {}
      },
      "source": [
        "# For making this code you need to install following library:-\n",
        "# write this command line in your command prompt, to install google module.\n",
        "\n",
        "# pip install google"
      ],
      "execution_count": null,
      "outputs": []
    },
    {
      "cell_type": "markdown",
      "metadata": {
        "id": "yGwZehFfY03z",
        "colab_type": "text"
      },
      "source": [
        "#Example 1---->"
      ]
    },
    {
      "cell_type": "code",
      "metadata": {
        "id": "iiHGC-dgHpwu",
        "colab_type": "code",
        "colab": {
          "base_uri": "https://localhost:8080/",
          "height": 188
        },
        "outputId": "4a3bca20-8385-4f7c-983b-e4554cbd1748"
      },
      "source": [
        "from googlesearch import search\n",
        "\n",
        "query = \"youtube\" \n",
        "\n",
        "search_1 = search( query, tld = \"com\",lang = \"en\" num = 10, stop = 10, pause = 2)\n",
        "\n",
        "for i in search_1:\n",
        "  print(i)"
      ],
      "execution_count": null,
      "outputs": [
        {
          "output_type": "stream",
          "text": [
            "https://www.youtube.com/\n",
            "https://twitter.com/YouTube?ref_src=twsrc%5Egoogle%7Ctwcamp%5Eserp%7Ctwgr%5Eauthor\n",
            "https://twitter.com/YouTube/status/1298508436401876992?ref_src=twsrc%5Egoogle%7Ctwcamp%5Eserp%7Ctwgr%5Etweet\n",
            "https://twitter.com/YouTube/status/1298379629372346368?ref_src=twsrc%5Egoogle%7Ctwcamp%5Eserp%7Ctwgr%5Etweet\n",
            "https://twitter.com/YouTube/status/1298356918205984775?ref_src=twsrc%5Egoogle%7Ctwcamp%5Eserp%7Ctwgr%5Etweet\n",
            "https://en.wikipedia.org/wiki/YouTube\n",
            "https://apps.apple.com/us/app/youtube-watch-listen-stream/id544007664\n",
            "https://www.facebook.com/youtube/\n",
            "https://www.insider.com/youtube-changes-logo-updates-app-design-2017-8\n",
            "https://twitter.com/youtube?lang=en\n"
          ],
          "name": "stdout"
        }
      ]
    },
    {
      "cell_type": "markdown",
      "metadata": {
        "id": "NYj_P1rjY9F7",
        "colab_type": "text"
      },
      "source": [
        "#Example 2--->"
      ]
    },
    {
      "cell_type": "code",
      "metadata": {
        "id": "-tsjiyEhZICY",
        "colab_type": "code",
        "colab": {
          "base_uri": "https://localhost:8080/",
          "height": 103
        },
        "outputId": "743f2d7c-1224-4104-e70d-c416d34292a5"
      },
      "source": [
        "query_2 = \"wikipedia\"\n",
        "\n",
        "search_2 = search( query_2, tld = \"com\",lang = \"en\", num = 5, start = 0,stop = 5, pause  = 2) # take pause = 2 (recommended).Don't exceed this value. It is recommended.\n",
        "\n",
        "for i in search_2:\n",
        "  print(i)"
      ],
      "execution_count": null,
      "outputs": [
        {
          "output_type": "stream",
          "text": [
            "https://www.wikipedia.org/\n",
            "https://en.wikipedia.org/\n",
            "https://en.wikipedia.org/wiki/Jack_Sherman\n",
            "https://en.wikipedia.org/wiki/Chi_Chi_DeVayne\n",
            "https://en.wikipedia.org/wiki/Todd_Nance\n"
          ],
          "name": "stdout"
        }
      ]
    },
    {
      "cell_type": "code",
      "metadata": {
        "id": "_ZymONIseOht",
        "colab_type": "code",
        "colab": {}
      },
      "source": [
        ""
      ],
      "execution_count": null,
      "outputs": []
    }
  ]
}